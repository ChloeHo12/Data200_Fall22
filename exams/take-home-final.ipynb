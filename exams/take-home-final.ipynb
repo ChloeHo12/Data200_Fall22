{
 "cells": [
  {
   "cell_type": "markdown",
   "metadata": {},
   "source": [
    "# Data 200: Database Systems and Data Management for Data Analytics\n"
   ]
  },
  {
   "cell_type": "markdown",
   "metadata": {},
   "source": [
    "# Take-Home Final Exam\n",
    "\n",
    "**Dickinson College**<br/>\n",
    "**Fall 2022**<br/>\n",
    "Prof. Eren Bilen<br/>\n",
    "<font color='red'>**Due Date:** Friday December 16, 12pm (noon) </font>\n",
    "---\n",
    "Enter your name in the markdown cell below."
   ]
  },
  {
   "cell_type": "markdown",
   "metadata": {},
   "source": [
    "# Name:"
   ]
  },
  {
   "cell_type": "code",
   "execution_count": 1,
   "metadata": {},
   "outputs": [],
   "source": [
    "from selenium import webdriver\n",
    "import pandas as pd\n",
    "import re\n",
    "import time \n",
    "import random\n",
    "import matplotlib.pyplot as plt"
   ]
  },
  {
   "cell_type": "markdown",
   "metadata": {},
   "source": [
    "# Scraping task"
   ]
  },
  {
   "cell_type": "markdown",
   "metadata": {},
   "source": [
    "On this exam, you will scrape reviews from BestBuy.com. The item for which you will scrape reviews for will depend on the first letter of your last name. Check the table below (both letters inclusive) for your assigned item:\n",
    "\n",
    "|First letter of your last name | Item/link to reviews on BestBuy.com\n",
    "| :---        |    :---   |\n",
    "|A-G | https://www.bestbuy.com/site/reviews/microsoft-xbox-series-x-1tb-console-black/6428324?variant=A&skuId=6428324\n",
    "|H-M | https://www.bestbuy.com/site/reviews/apple-airpods-with-charging-case-2nd-generation-white/6084400?variant=A&skuId=6084400\n",
    "|N-S | https://www.bestbuy.com/site/reviews/samsung-65-class-7-series-led-4k-uhd-smart-tizen-tv/6401722?variant=A&skuId=6401722\n",
    "|T-Z | https://www.bestbuy.com/site/reviews/nintendo-switch-32gb-lite-turquoise/6257139?variant=A&skuId=6257139\n"
   ]
  },
  {
   "cell_type": "markdown",
   "metadata": {},
   "source": [
    "Your goal is to scrape 2,000 reviews that were posted in the reviews page of your assigned item. The format of your output should be a dataframe with the following columns/format:\n",
    "<br>\n",
    "![title](ss1.png)"
   ]
  },
  {
   "cell_type": "markdown",
   "metadata": {},
   "source": [
    "where\n",
    "```\n",
    "username: the user name of the reviewer\n",
    "review: the review content\n",
    "rating: the rating (out of 5) left by the reviewer\n",
    "helpful: the number of votes received on the review indicating that the review is helpful\n",
    "unhelpful: the number of votes received on the review indicating that the review is unhelpful\n",
    "net: |helpful - unhelpful| i.e., the absolute value of the difference between \"helpful\" and \"unhelpful\" votes\n",
    "nethelpful: helpful - unhelpful i.e., the difference between \"helpful\" and \"unhelpful\" votes\n",
    "total: total number of votes (helpful + unhelpful) received\n",
    "length: length of the review, defined as the number of characters in a review (including whitespace)\n",
    "```"
   ]
  },
  {
   "cell_type": "markdown",
   "metadata": {},
   "source": [
    "Include the `.ipynb` and `.md` versions of your work + the following two scatterplots as part of your output. Comment on what you observe from the scatterplots. Are you surprised?\n",
    "* scatterplot with `length` on the x axis, `total` on the y axis\n",
    "* scatterplot with `length` on the x axis, `nethelpful` on the y axis\n",
    "\n",
    "Commit and push on Github once you finish."
   ]
  },
  {
   "cell_type": "markdown",
   "metadata": {},
   "source": [
    "Hints: \n",
    "* You will need to scrape multiple pages. Make sure to wait at least 2 seconds between each page, e.g., using `time.sleep(random.uniform(2, 3))`.\n",
    "* Trim away `\\n` from review strings as it contains no useful information, and can cause bugs in regex.\n",
    "* Make sure to get the position of the \"next Page\" button, as its position can change dynamically depending on the page number."
   ]
  },
  {
   "cell_type": "markdown",
   "metadata": {},
   "source": [
    "Good luck!"
   ]
  },
  {
   "cell_type": "code",
   "execution_count": null,
   "metadata": {},
   "outputs": [],
   "source": []
  }
 ],
 "metadata": {
  "celltoolbar": "Raw Cell Format",
  "kernelspec": {
   "display_name": "Python 3 (ipykernel)",
   "language": "python",
   "name": "python3"
  },
  "language_info": {
   "codemirror_mode": {
    "name": "ipython",
    "version": 3
   },
   "file_extension": ".py",
   "mimetype": "text/x-python",
   "name": "python",
   "nbconvert_exporter": "python",
   "pygments_lexer": "ipython3",
   "version": "3.9.13"
  }
 },
 "nbformat": 4,
 "nbformat_minor": 2
}
